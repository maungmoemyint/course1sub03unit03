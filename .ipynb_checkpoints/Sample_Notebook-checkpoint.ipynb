{
 "cells": [
  {
   "cell_type": "markdown",
   "id": "c9eafa6d-093a-40cb-ad93-98663a74a044",
   "metadata": {},
   "source": [
    "Here is top of the notebook\n",
    "[Go to the bottom of this notebook](#bottom)\n",
    "<a id=\"top\"></a>"
   ]
  },
  {
   "cell_type": "markdown",
   "id": "b13419dd-3d5f-4d92-99fa-4953f72c04b0",
   "metadata": {
    "tags": []
   },
   "source": [
    "# This is a heading.\n",
    "\n",
    "This is a list.\n",
    "\n",
    "* item a\n",
    "* item b\n",
    "* item c\n",
    "\n",
    "This is inline code `str.contains('x')`\n",
    "\n",
    "This is a block of code\n",
    "\n",
    "```python\n",
    "a = 5\n",
    "b = 3\n",
    "if a > b:\n",
    "    print(\"True\")\n",
    "```\n",
    "\n",
    "**bold text**\n",
    "\n",
    "*italicized text*\n",
    "\n",
    "> blockquote\n",
    "\n",
    "# H1\n",
    "## H2\n",
    "### H3\n",
    "\n",
    "### Ordered List\n",
    "\n",
    "1. First item\n",
    "2. Second item\n",
    "3. Third item\n",
    "\n",
    "### Unordered List\n",
    "\n",
    "- First item\n",
    "- Second item\n",
    "- Third item\n",
    "\n",
    "### Subscripts\n",
    "\n",
    "H~2~O\n",
    "\n",
    "### Superscript\n",
    "\n",
    "X^2^\n",
    "\n",
    "\n",
    "### Link\n",
    "\n",
    "[\"MNRI\"](http://mnri.ch)\n",
    "\n",
    "### Image\n",
    "\n",
    "![alter](image.jpg)\n",
    "\n",
    "### Foot Note\n",
    "\n",
    "Here's a sentence with a footnote. [^1]\n",
    "\n",
    "### Straight through\n",
    "\n",
    "~~The world is flat.~~\n",
    "\n",
    "### Emoji\n",
    "\n",
    "That is so funny! :joy:\n",
    "\n",
    "one camping! :tent: Be back soon.\n",
    "\n",
    "That is so funny! :joy:\n"
   ]
  },
  {
   "cell_type": "code",
   "execution_count": null,
   "id": "baba2789-91d5-4dc2-8c8d-81a4e304f742",
   "metadata": {
    "tags": []
   },
   "outputs": [],
   "source": [
    "import seaborn as sns\n",
    "data = sns.load_dataset('titanic')\n",
    "data.head(5)"
   ]
  },
  {
   "cell_type": "code",
   "execution_count": null,
   "id": "abd89684-c650-4af1-bfdd-e18ec4eff04e",
   "metadata": {},
   "outputs": [],
   "source": [
    "print(\"Hello\")"
   ]
  },
  {
   "cell_type": "code",
   "execution_count": null,
   "id": "e72c25fd-463a-4afb-8881-f06584454f6a",
   "metadata": {},
   "outputs": [],
   "source": [
    "x = 1\n",
    "x"
   ]
  },
  {
   "cell_type": "code",
   "execution_count": null,
   "id": "50d6ba68-2784-4775-abba-2ead712f6155",
   "metadata": {},
   "outputs": [],
   "source": [
    "y = x*2\n",
    "y"
   ]
  },
  {
   "cell_type": "code",
   "execution_count": null,
   "id": "38a982c3-1c03-462e-b651-c49c9f710cf7",
   "metadata": {},
   "outputs": [],
   "source": [
    "my_list = [1, 2, 3]\n",
    "my_number = 10"
   ]
  },
  {
   "cell_type": "code",
   "execution_count": null,
   "id": "e46ec049-ac69-4bef-a02e-c6b1a727407f",
   "metadata": {},
   "outputs": [],
   "source": [
    "# Use Tab to get variable name and available function\n",
    "\n",
    "my_list.append(6)\n",
    "my_list"
   ]
  },
  {
   "cell_type": "code",
   "execution_count": null,
   "id": "9a0bb9b9-35be-4208-8260-81e97064ce07",
   "metadata": {},
   "outputs": [],
   "source": [
    "# Magic commands\n",
    "\n",
    "%reset # Magic command %reset"
   ]
  },
  {
   "cell_type": "code",
   "execution_count": null,
   "id": "1347d11d-c610-4013-991f-ccbac2172d79",
   "metadata": {},
   "outputs": [],
   "source": [
    "%run script.py # Magic command %run"
   ]
  },
  {
   "cell_type": "code",
   "execution_count": null,
   "id": "1d373dda-fd8f-4387-94a5-456c02ca7c6f",
   "metadata": {},
   "outputs": [],
   "source": [
    "bmi # Now you can access the variable bmi from scrip.py in the jupyter lab"
   ]
  },
  {
   "cell_type": "markdown",
   "id": "55d99b70-9277-4df7-8934-b342baeb21d2",
   "metadata": {},
   "source": [
    "## The %matplotlib command\n",
    "\n",
    "Another command that you will be seeing a lot of is the %matplotlib inline command.\n",
    "This is specifically for the library matplotlib that we will use later on to draw plots. The\n",
    "purpose of this command is to tell the Jupyter notebook to include the output of these\n",
    "plots directly in the notebook. "
   ]
  },
  {
   "cell_type": "code",
   "execution_count": null,
   "id": "63dd3968-94bd-4865-aa26-f65a8e82a0f8",
   "metadata": {},
   "outputs": [],
   "source": [
    "%matplotlib inline\n",
    "import matplotlib.pyplot as plt\n",
    "\n",
    "xvalues = list(range(10))\n",
    "y = [x ** 2 for x in xvalues]\n",
    "plt.plot(xvalues, y)\n",
    "plt.xlabel('x')\n",
    "plt.ylabel('y')"
   ]
  },
  {
   "cell_type": "markdown",
   "id": "e6c4920d-4082-4c2f-ab56-82ca97cbdcec",
   "metadata": {},
   "source": [
    "Here we imported the plotting library matplotlib, we added the **magic command**\n",
    "necessary to have the plots displayed inside the notebook and then we defined two lists\n",
    "of values x and y and plotted the resulting graph."
   ]
  },
  {
   "cell_type": "markdown",
   "id": "3001844b-97e3-4f51-afca-0eb63edad1a8",
   "metadata": {},
   "source": [
    "## %pws magic command\n",
    "\n",
    "The %pwd command that prints your working\n",
    "directory"
   ]
  },
  {
   "cell_type": "code",
   "execution_count": null,
   "id": "41d2e6f6-95d9-4a51-a665-b44f45e9f281",
   "metadata": {},
   "outputs": [],
   "source": [
    "%pwd"
   ]
  },
  {
   "cell_type": "markdown",
   "id": "cb5f4ade-9262-4015-90e0-52a5ae19e385",
   "metadata": {},
   "source": [
    "## %load_ext magic command\n",
    "### %load_ext lab_black"
   ]
  },
  {
   "cell_type": "code",
   "execution_count": null,
   "id": "2c5be79b-9c6b-4354-a275-2a8b0cb2d172",
   "metadata": {},
   "outputs": [],
   "source": [
    "%load_ext lab_black"
   ]
  },
  {
   "cell_type": "code",
   "execution_count": null,
   "id": "11535af2-54b9-4a36-bd1f-720be0fa67ac",
   "metadata": {},
   "outputs": [],
   "source": []
  },
  {
   "cell_type": "code",
   "execution_count": 41,
   "id": "bbfc7d10-89b7-4043-9d0d-5c2941f2224a",
   "metadata": {},
   "outputs": [
    {
     "ename": "IndentationError",
     "evalue": "expected an indented block (4184712808.py, line 12)",
     "output_type": "error",
     "traceback": [
      "\u001b[0;36m  File \u001b[0;32m\"/var/folders/n5/3rvsm76s2cv8xgzp90lrydpw0000gn/T/ipykernel_11532/4184712808.py\"\u001b[0;36m, line \u001b[0;32m12\u001b[0m\n\u001b[0;31m    return 37 - a[42 - u : y ** 3]\u001b[0m\n\u001b[0m    ^\u001b[0m\n\u001b[0;31mIndentationError\u001b[0m\u001b[0;31m:\u001b[0m expected an indented block\n"
     ]
    },
    {
     "name": "stderr",
     "output_type": "stream",
     "text": [
      "ERROR:root:Cannot parse: 12:0: return 37 - a[42 - u : y ** 3]\n",
      "Traceback (most recent call last):\n",
      "  File \"/Users/maungmoemyint/opt/anaconda3/envs/adsml/lib/python3.9/site-packages/lab_black.py\", line 218, in format_cell\n",
      "    formatted_code = _format_code(cell)\n",
      "  File \"/Users/maungmoemyint/opt/anaconda3/envs/adsml/lib/python3.9/site-packages/lab_black.py\", line 29, in _format_code\n",
      "    return format_str(src_contents=code, mode=FileMode())\n",
      "  File \"/Users/maungmoemyint/opt/anaconda3/envs/adsml/lib/python3.9/site-packages/black/__init__.py\", line 974, in format_str\n",
      "    src_node = lib2to3_parse(src_contents.lstrip(), mode.target_versions)\n",
      "  File \"/Users/maungmoemyint/opt/anaconda3/envs/adsml/lib/python3.9/site-packages/black/__init__.py\", line 1083, in lib2to3_parse\n",
      "    raise exc from None\n",
      "black.InvalidInput: Cannot parse: 12:0: return 37 - a[42 - u : y ** 3]\n"
     ]
    }
   ],
   "source": [
    "%load_ext lab_black # you can run it only once in the first cell\n",
    "x = {\"a\": 37, \"b\": 42, \"c\": 927}\n",
    "x = 123456789.123456789e123456789\n",
    "if (\n",
    "    very_long_variable_name is not None\n",
    "    and very_long_variable_name.field > 0\n",
    "    or very_long_variable_name.is_debug\n",
    "):\n",
    "    z = \"hello \" + \"world\"\n",
    "    \n",
    "def f(a: List[int]):\n",
    "    return 37 - a[42 - u : y ** 3]"
   ]
  },
  {
   "cell_type": "markdown",
   "id": "f0bf3d06-ae20-454e-ae43-484d301de967",
   "metadata": {},
   "source": [
    "here is the end of the notebook\n",
    "<a id=\"bottom\"></a>\n",
    "[back to top](#top)"
   ]
  },
  {
   "cell_type": "markdown",
   "id": "c497d03e-8572-4b95-b51c-152c7707f9ad",
   "metadata": {},
   "source": [
    "<a id=\"destination tag\"></a>"
   ]
  },
  {
   "cell_type": "markdown",
   "id": "db0e426f-dde5-4a29-b821-0c4885b5d230",
   "metadata": {},
   "source": [
    "<a id=\"destination tag\"></a>"
   ]
  }
 ],
 "metadata": {
  "kernelspec": {
   "display_name": "Python [conda env:adsml] *",
   "language": "python",
   "name": "conda-env-adsml-py"
  },
  "language_info": {
   "codemirror_mode": {
    "name": "ipython",
    "version": 3
   },
   "file_extension": ".py",
   "mimetype": "text/x-python",
   "name": "python",
   "nbconvert_exporter": "python",
   "pygments_lexer": "ipython3",
   "version": "3.9.7"
  },
  "toc-autonumbering": true,
  "toc-showcode": false,
  "toc-showmarkdowntxt": false
 },
 "nbformat": 4,
 "nbformat_minor": 5
}
